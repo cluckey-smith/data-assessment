{
 "cells": [
  {
   "cell_type": "markdown",
   "id": "b1fe4e52",
   "metadata": {},
   "source": [
    "This notebook is intended to perform some basic data cleaning before uploading to BigQuery"
   ]
  },
  {
   "cell_type": "code",
   "execution_count": 40,
   "id": "6b629559",
   "metadata": {},
   "outputs": [],
   "source": [
    "import pandas as pd\n",
    "import os\n",
    "from google.cloud import bigquery\n",
    "import plotly.express as px"
   ]
  },
  {
   "cell_type": "code",
   "execution_count": 7,
   "id": "909774a9",
   "metadata": {},
   "outputs": [],
   "source": [
    "os.environ['GOOGLE_APPLICATION_CREDENTIALS'] = './eg-data-assessment-10f6b7d7eca7.json'"
   ]
  },
  {
   "cell_type": "code",
   "execution_count": 10,
   "id": "04b67c6e",
   "metadata": {},
   "outputs": [],
   "source": [
    "client = bigquery.Client(project='eg-data-assessment')"
   ]
  },
  {
   "cell_type": "markdown",
   "id": "f70d04de",
   "metadata": {},
   "source": [
    "# Exercise 1"
   ]
  },
  {
   "cell_type": "code",
   "execution_count": 50,
   "id": "264609d3",
   "metadata": {},
   "outputs": [],
   "source": [
    "df = pd.read_csv('./raw_files/Exercise_1_-_Webpage_Performance.csv', thousands=',')"
   ]
  },
  {
   "cell_type": "code",
   "execution_count": 51,
   "id": "866a1421",
   "metadata": {},
   "outputs": [
    {
     "data": {
      "text/html": [
       "<div>\n",
       "<style scoped>\n",
       "    .dataframe tbody tr th:only-of-type {\n",
       "        vertical-align: middle;\n",
       "    }\n",
       "\n",
       "    .dataframe tbody tr th {\n",
       "        vertical-align: top;\n",
       "    }\n",
       "\n",
       "    .dataframe thead th {\n",
       "        text-align: right;\n",
       "    }\n",
       "</style>\n",
       "<table border=\"1\" class=\"dataframe\">\n",
       "  <thead>\n",
       "    <tr style=\"text-align: right;\">\n",
       "      <th></th>\n",
       "      <th>date</th>\n",
       "      <th>variant</th>\n",
       "      <th>metric</th>\n",
       "      <th>value</th>\n",
       "    </tr>\n",
       "  </thead>\n",
       "  <tbody>\n",
       "    <tr>\n",
       "      <th>0</th>\n",
       "      <td>1/1/2024</td>\n",
       "      <td>A</td>\n",
       "      <td>visits</td>\n",
       "      <td>2115</td>\n",
       "    </tr>\n",
       "    <tr>\n",
       "      <th>1</th>\n",
       "      <td>1/2/2024</td>\n",
       "      <td>A</td>\n",
       "      <td>visits</td>\n",
       "      <td>5406</td>\n",
       "    </tr>\n",
       "    <tr>\n",
       "      <th>2</th>\n",
       "      <td>1/3/2024</td>\n",
       "      <td>A</td>\n",
       "      <td>visits</td>\n",
       "      <td>2278</td>\n",
       "    </tr>\n",
       "    <tr>\n",
       "      <th>3</th>\n",
       "      <td>1/4/2024</td>\n",
       "      <td>A</td>\n",
       "      <td>visits</td>\n",
       "      <td>6725</td>\n",
       "    </tr>\n",
       "    <tr>\n",
       "      <th>4</th>\n",
       "      <td>1/5/2024</td>\n",
       "      <td>A</td>\n",
       "      <td>visits</td>\n",
       "      <td>8920</td>\n",
       "    </tr>\n",
       "  </tbody>\n",
       "</table>\n",
       "</div>"
      ],
      "text/plain": [
       "       date variant metric    value \n",
       "0  1/1/2024       A  visits     2115\n",
       "1  1/2/2024       A  visits     5406\n",
       "2  1/3/2024       A  visits     2278\n",
       "3  1/4/2024       A  visits     6725\n",
       "4  1/5/2024       A  visits     8920"
      ]
     },
     "execution_count": 51,
     "metadata": {},
     "output_type": "execute_result"
    }
   ],
   "source": [
    "df.head()"
   ]
  },
  {
   "cell_type": "code",
   "execution_count": 52,
   "id": "11862a5e",
   "metadata": {},
   "outputs": [
    {
     "data": {
      "text/html": [
       "<div>\n",
       "<style scoped>\n",
       "    .dataframe tbody tr th:only-of-type {\n",
       "        vertical-align: middle;\n",
       "    }\n",
       "\n",
       "    .dataframe tbody tr th {\n",
       "        vertical-align: top;\n",
       "    }\n",
       "\n",
       "    .dataframe thead th {\n",
       "        text-align: right;\n",
       "    }\n",
       "</style>\n",
       "<table border=\"1\" class=\"dataframe\">\n",
       "  <thead>\n",
       "    <tr style=\"text-align: right;\">\n",
       "      <th></th>\n",
       "      <th>value</th>\n",
       "    </tr>\n",
       "  </thead>\n",
       "  <tbody>\n",
       "    <tr>\n",
       "      <th>count</th>\n",
       "      <td>84.000000</td>\n",
       "    </tr>\n",
       "    <tr>\n",
       "      <th>mean</th>\n",
       "      <td>4660.928571</td>\n",
       "    </tr>\n",
       "    <tr>\n",
       "      <th>std</th>\n",
       "      <td>10821.613112</td>\n",
       "    </tr>\n",
       "    <tr>\n",
       "      <th>min</th>\n",
       "      <td>5.000000</td>\n",
       "    </tr>\n",
       "    <tr>\n",
       "      <th>25%</th>\n",
       "      <td>51.500000</td>\n",
       "    </tr>\n",
       "    <tr>\n",
       "      <th>50%</th>\n",
       "      <td>201.000000</td>\n",
       "    </tr>\n",
       "    <tr>\n",
       "      <th>75%</th>\n",
       "      <td>2890.500000</td>\n",
       "    </tr>\n",
       "    <tr>\n",
       "      <th>max</th>\n",
       "      <td>54944.000000</td>\n",
       "    </tr>\n",
       "  </tbody>\n",
       "</table>\n",
       "</div>"
      ],
      "text/plain": [
       "             value \n",
       "count     84.000000\n",
       "mean    4660.928571\n",
       "std    10821.613112\n",
       "min        5.000000\n",
       "25%       51.500000\n",
       "50%      201.000000\n",
       "75%     2890.500000\n",
       "max    54944.000000"
      ]
     },
     "execution_count": 52,
     "metadata": {},
     "output_type": "execute_result"
    }
   ],
   "source": [
    "df.describe()"
   ]
  },
  {
   "cell_type": "code",
   "execution_count": 53,
   "id": "fe6d1220",
   "metadata": {},
   "outputs": [
    {
     "name": "stdout",
     "output_type": "stream",
     "text": [
      "<class 'pandas.core.frame.DataFrame'>\n",
      "RangeIndex: 84 entries, 0 to 83\n",
      "Data columns (total 4 columns):\n",
      " #   Column   Non-Null Count  Dtype \n",
      "---  ------   --------------  ----- \n",
      " 0   date     84 non-null     object\n",
      " 1   variant  84 non-null     object\n",
      " 2   metric   84 non-null     object\n",
      " 3    value   84 non-null     int64 \n",
      "dtypes: int64(1), object(3)\n",
      "memory usage: 2.8+ KB\n"
     ]
    }
   ],
   "source": [
    "df.info()"
   ]
  },
  {
   "cell_type": "code",
   "execution_count": 54,
   "id": "ae0aa09b",
   "metadata": {},
   "outputs": [],
   "source": [
    "# convert our dates\n",
    "df['date'] = pd.to_datetime(df['date'])"
   ]
  },
  {
   "cell_type": "code",
   "execution_count": 55,
   "id": "bc87fc58",
   "metadata": {},
   "outputs": [],
   "source": [
    "# strip any unncessary spaces from our column headers\n",
    "df.columns = df.columns.str.strip()"
   ]
  },
  {
   "cell_type": "code",
   "execution_count": 58,
   "id": "63232715",
   "metadata": {},
   "outputs": [],
   "source": [
    "# pivot table to where downloads and visits are each a column. Will make additional analysis simpler\n",
    "df_pivot = df.pivot_table(index=['date', 'variant'], columns='metric', values='value', aggfunc=sum).reset_index()"
   ]
  },
  {
   "cell_type": "code",
   "execution_count": 61,
   "id": "b5540fb0",
   "metadata": {},
   "outputs": [
    {
     "name": "stderr",
     "output_type": "stream",
     "text": [
      "100%|██████████| 1/1 [00:00<?, ?it/s]\n"
     ]
    }
   ],
   "source": [
    "df_pivot.to_gbq('raw_data.web_performance', if_exists='replace')"
   ]
  },
  {
   "cell_type": "markdown",
   "id": "a3bd1221",
   "metadata": {},
   "source": [
    "# Exercise 3"
   ]
  },
  {
   "cell_type": "code",
   "execution_count": 80,
   "id": "384d8cd1",
   "metadata": {},
   "outputs": [],
   "source": [
    "df_installs = pd.read_csv('./raw_files/Exercise_3_-_Installs (1).csv', thousands=',')"
   ]
  },
  {
   "cell_type": "code",
   "execution_count": null,
   "id": "a60d630d",
   "metadata": {},
   "outputs": [],
   "source": [
    "df"
   ]
  },
  {
   "cell_type": "code",
   "execution_count": 65,
   "id": "6407cf9e",
   "metadata": {},
   "outputs": [],
   "source": [
    "df_installs.columns = df_installs.columns.str.strip()\n",
    "df_installs.columns = df_installs.columns.str.lower()"
   ]
  },
  {
   "cell_type": "code",
   "execution_count": 68,
   "id": "a0beeb59",
   "metadata": {},
   "outputs": [],
   "source": [
    "df_installs['install_date'] = pd.to_datetime(df_installs['install_date'])"
   ]
  },
  {
   "cell_type": "code",
   "execution_count": 71,
   "id": "5f9f63d2",
   "metadata": {},
   "outputs": [
    {
     "name": "stderr",
     "output_type": "stream",
     "text": [
      "C:\\Users\\Connor Luckey-Smith\\AppData\\Local\\Temp\\ipykernel_35804\\22349228.py:1: FutureWarning:\n",
      "\n",
      "Treating datetime data as categorical rather than numeric in `.describe` is deprecated and will be removed in a future version of pandas. Specify `datetime_is_numeric=True` to silence this warning and adopt the future behavior now.\n",
      "\n"
     ]
    },
    {
     "data": {
      "text/html": [
       "<div>\n",
       "<style scoped>\n",
       "    .dataframe tbody tr th:only-of-type {\n",
       "        vertical-align: middle;\n",
       "    }\n",
       "\n",
       "    .dataframe tbody tr th {\n",
       "        vertical-align: top;\n",
       "    }\n",
       "\n",
       "    .dataframe thead th {\n",
       "        text-align: right;\n",
       "    }\n",
       "</style>\n",
       "<table border=\"1\" class=\"dataframe\">\n",
       "  <thead>\n",
       "    <tr style=\"text-align: right;\">\n",
       "      <th></th>\n",
       "      <th>user_id</th>\n",
       "      <th>install_date</th>\n",
       "      <th>country_code</th>\n",
       "    </tr>\n",
       "  </thead>\n",
       "  <tbody>\n",
       "    <tr>\n",
       "      <th>count</th>\n",
       "      <td>3600</td>\n",
       "      <td>3600</td>\n",
       "      <td>3598</td>\n",
       "    </tr>\n",
       "    <tr>\n",
       "      <th>unique</th>\n",
       "      <td>3600</td>\n",
       "      <td>3536</td>\n",
       "      <td>110</td>\n",
       "    </tr>\n",
       "    <tr>\n",
       "      <th>top</th>\n",
       "      <td>0005be69089baac65f3dcca8bbd77f36f5fded49</td>\n",
       "      <td>2022-06-21 00:00:00</td>\n",
       "      <td>US</td>\n",
       "    </tr>\n",
       "    <tr>\n",
       "      <th>freq</th>\n",
       "      <td>1</td>\n",
       "      <td>7</td>\n",
       "      <td>747</td>\n",
       "    </tr>\n",
       "    <tr>\n",
       "      <th>first</th>\n",
       "      <td>NaN</td>\n",
       "      <td>2021-01-01 11:13:00</td>\n",
       "      <td>NaN</td>\n",
       "    </tr>\n",
       "    <tr>\n",
       "      <th>last</th>\n",
       "      <td>NaN</td>\n",
       "      <td>2023-12-31 22:44:00</td>\n",
       "      <td>NaN</td>\n",
       "    </tr>\n",
       "  </tbody>\n",
       "</table>\n",
       "</div>"
      ],
      "text/plain": [
       "                                         user_id         install_date  \\\n",
       "count                                       3600                 3600   \n",
       "unique                                      3600                 3536   \n",
       "top     0005be69089baac65f3dcca8bbd77f36f5fded49  2022-06-21 00:00:00   \n",
       "freq                                           1                    7   \n",
       "first                                        NaN  2021-01-01 11:13:00   \n",
       "last                                         NaN  2023-12-31 22:44:00   \n",
       "\n",
       "       country_code  \n",
       "count          3598  \n",
       "unique          110  \n",
       "top              US  \n",
       "freq            747  \n",
       "first           NaN  \n",
       "last            NaN  "
      ]
     },
     "execution_count": 71,
     "metadata": {},
     "output_type": "execute_result"
    }
   ],
   "source": [
    "df_installs.describe()"
   ]
  },
  {
   "cell_type": "code",
   "execution_count": 72,
   "id": "29b7ceba",
   "metadata": {},
   "outputs": [
    {
     "name": "stdout",
     "output_type": "stream",
     "text": [
      "<class 'pandas.core.frame.DataFrame'>\n",
      "RangeIndex: 3600 entries, 0 to 3599\n",
      "Data columns (total 3 columns):\n",
      " #   Column        Non-Null Count  Dtype         \n",
      "---  ------        --------------  -----         \n",
      " 0   user_id       3600 non-null   object        \n",
      " 1   install_date  3600 non-null   datetime64[ns]\n",
      " 2   country_code  3598 non-null   object        \n",
      "dtypes: datetime64[ns](1), object(2)\n",
      "memory usage: 84.5+ KB\n"
     ]
    }
   ],
   "source": [
    "df_installs.info()"
   ]
  },
  {
   "cell_type": "code",
   "execution_count": 73,
   "id": "7d6c0355",
   "metadata": {},
   "outputs": [
    {
     "name": "stderr",
     "output_type": "stream",
     "text": [
      "100%|██████████| 1/1 [00:00<?, ?it/s]\n"
     ]
    }
   ],
   "source": [
    "df_installs.to_gbq('raw_data.user_installs', if_exists='replace')"
   ]
  },
  {
   "cell_type": "code",
   "execution_count": 81,
   "id": "05bb73cd",
   "metadata": {},
   "outputs": [],
   "source": [
    "df_activity = pd.read_csv('./raw_files/Exercise_3_-_Activity (1).csv')"
   ]
  },
  {
   "cell_type": "code",
   "execution_count": 82,
   "id": "1e93df67",
   "metadata": {},
   "outputs": [
    {
     "data": {
      "text/html": [
       "<div>\n",
       "<style scoped>\n",
       "    .dataframe tbody tr th:only-of-type {\n",
       "        vertical-align: middle;\n",
       "    }\n",
       "\n",
       "    .dataframe tbody tr th {\n",
       "        vertical-align: top;\n",
       "    }\n",
       "\n",
       "    .dataframe thead th {\n",
       "        text-align: right;\n",
       "    }\n",
       "</style>\n",
       "<table border=\"1\" class=\"dataframe\">\n",
       "  <thead>\n",
       "    <tr style=\"text-align: right;\">\n",
       "      <th></th>\n",
       "      <th>USER_ID</th>\n",
       "      <th>PLAY_DATE</th>\n",
       "      <th>MATCHES_STARTED</th>\n",
       "      <th>MATCHES_COMPLETED</th>\n",
       "      <th>MATCHES_WON</th>\n",
       "    </tr>\n",
       "  </thead>\n",
       "  <tbody>\n",
       "    <tr>\n",
       "      <th>0</th>\n",
       "      <td>d4b3dccbf71946ae604d142792d1371b549a8a8e</td>\n",
       "      <td>22/08/22 00:00</td>\n",
       "      <td>5</td>\n",
       "      <td>5</td>\n",
       "      <td>0</td>\n",
       "    </tr>\n",
       "    <tr>\n",
       "      <th>1</th>\n",
       "      <td>950ecfee6ee85398628e33a256daccedab6c5e7e</td>\n",
       "      <td>10/02/22 00:00</td>\n",
       "      <td>15</td>\n",
       "      <td>15</td>\n",
       "      <td>0</td>\n",
       "    </tr>\n",
       "    <tr>\n",
       "      <th>2</th>\n",
       "      <td>950ecfee6ee85398628e33a256daccedab6c5e7e</td>\n",
       "      <td>24/07/22 00:00</td>\n",
       "      <td>15</td>\n",
       "      <td>15</td>\n",
       "      <td>2</td>\n",
       "    </tr>\n",
       "    <tr>\n",
       "      <th>3</th>\n",
       "      <td>9bccb7e16df4195aa74b25e8a7b88ca803d44e2a</td>\n",
       "      <td>12/09/22 00:00</td>\n",
       "      <td>4</td>\n",
       "      <td>3</td>\n",
       "      <td>0</td>\n",
       "    </tr>\n",
       "    <tr>\n",
       "      <th>4</th>\n",
       "      <td>01b9d4a84ad6297f78ad98fcfc82d245813332fa</td>\n",
       "      <td>25/09/21 00:00</td>\n",
       "      <td>5</td>\n",
       "      <td>5</td>\n",
       "      <td>0</td>\n",
       "    </tr>\n",
       "  </tbody>\n",
       "</table>\n",
       "</div>"
      ],
      "text/plain": [
       "                                    USER_ID       PLAY_DATE  MATCHES_STARTED  \\\n",
       "0  d4b3dccbf71946ae604d142792d1371b549a8a8e  22/08/22 00:00                5   \n",
       "1  950ecfee6ee85398628e33a256daccedab6c5e7e  10/02/22 00:00               15   \n",
       "2  950ecfee6ee85398628e33a256daccedab6c5e7e  24/07/22 00:00               15   \n",
       "3  9bccb7e16df4195aa74b25e8a7b88ca803d44e2a  12/09/22 00:00                4   \n",
       "4  01b9d4a84ad6297f78ad98fcfc82d245813332fa  25/09/21 00:00                5   \n",
       "\n",
       "   MATCHES_COMPLETED  MATCHES_WON  \n",
       "0                  5            0  \n",
       "1                 15            0  \n",
       "2                 15            2  \n",
       "3                  3            0  \n",
       "4                  5            0  "
      ]
     },
     "execution_count": 82,
     "metadata": {},
     "output_type": "execute_result"
    }
   ],
   "source": [
    "df_activity.head()"
   ]
  },
  {
   "cell_type": "code",
   "execution_count": 76,
   "id": "2bd4315f",
   "metadata": {},
   "outputs": [
    {
     "name": "stdout",
     "output_type": "stream",
     "text": [
      "<class 'pandas.core.frame.DataFrame'>\n",
      "RangeIndex: 46299 entries, 0 to 46298\n",
      "Data columns (total 5 columns):\n",
      " #   Column             Non-Null Count  Dtype \n",
      "---  ------             --------------  ----- \n",
      " 0   USER_ID            46299 non-null  object\n",
      " 1   PLAY_DATE          46299 non-null  object\n",
      " 2   MATCHES_STARTED    46299 non-null  int64 \n",
      " 3   MATCHES_COMPLETED  46299 non-null  int64 \n",
      " 4   MATCHES_WON        46299 non-null  int64 \n",
      "dtypes: int64(3), object(2)\n",
      "memory usage: 1.8+ MB\n"
     ]
    }
   ],
   "source": [
    "df_activity.info()"
   ]
  },
  {
   "cell_type": "code",
   "execution_count": 77,
   "id": "ebd49535",
   "metadata": {},
   "outputs": [],
   "source": [
    "df_activity.columns = df_activity.columns.str.strip()\n",
    "df_activity.columns = df_activity.columns.str.lower()"
   ]
  },
  {
   "cell_type": "code",
   "execution_count": 78,
   "id": "092c2b85",
   "metadata": {},
   "outputs": [],
   "source": [
    "df_activity['play_date'] = pd.to_datetime(df_activity['play_date'])"
   ]
  },
  {
   "cell_type": "code",
   "execution_count": 83,
   "id": "b256868f",
   "metadata": {},
   "outputs": [
    {
     "data": {
      "text/html": [
       "<div>\n",
       "<style scoped>\n",
       "    .dataframe tbody tr th:only-of-type {\n",
       "        vertical-align: middle;\n",
       "    }\n",
       "\n",
       "    .dataframe tbody tr th {\n",
       "        vertical-align: top;\n",
       "    }\n",
       "\n",
       "    .dataframe thead th {\n",
       "        text-align: right;\n",
       "    }\n",
       "</style>\n",
       "<table border=\"1\" class=\"dataframe\">\n",
       "  <thead>\n",
       "    <tr style=\"text-align: right;\">\n",
       "      <th></th>\n",
       "      <th>USER_ID</th>\n",
       "      <th>PLAY_DATE</th>\n",
       "      <th>MATCHES_STARTED</th>\n",
       "      <th>MATCHES_COMPLETED</th>\n",
       "      <th>MATCHES_WON</th>\n",
       "    </tr>\n",
       "  </thead>\n",
       "  <tbody>\n",
       "    <tr>\n",
       "      <th>0</th>\n",
       "      <td>d4b3dccbf71946ae604d142792d1371b549a8a8e</td>\n",
       "      <td>22/08/22 00:00</td>\n",
       "      <td>5</td>\n",
       "      <td>5</td>\n",
       "      <td>0</td>\n",
       "    </tr>\n",
       "    <tr>\n",
       "      <th>1</th>\n",
       "      <td>950ecfee6ee85398628e33a256daccedab6c5e7e</td>\n",
       "      <td>10/02/22 00:00</td>\n",
       "      <td>15</td>\n",
       "      <td>15</td>\n",
       "      <td>0</td>\n",
       "    </tr>\n",
       "    <tr>\n",
       "      <th>2</th>\n",
       "      <td>950ecfee6ee85398628e33a256daccedab6c5e7e</td>\n",
       "      <td>24/07/22 00:00</td>\n",
       "      <td>15</td>\n",
       "      <td>15</td>\n",
       "      <td>2</td>\n",
       "    </tr>\n",
       "    <tr>\n",
       "      <th>3</th>\n",
       "      <td>9bccb7e16df4195aa74b25e8a7b88ca803d44e2a</td>\n",
       "      <td>12/09/22 00:00</td>\n",
       "      <td>4</td>\n",
       "      <td>3</td>\n",
       "      <td>0</td>\n",
       "    </tr>\n",
       "    <tr>\n",
       "      <th>4</th>\n",
       "      <td>01b9d4a84ad6297f78ad98fcfc82d245813332fa</td>\n",
       "      <td>25/09/21 00:00</td>\n",
       "      <td>5</td>\n",
       "      <td>5</td>\n",
       "      <td>0</td>\n",
       "    </tr>\n",
       "  </tbody>\n",
       "</table>\n",
       "</div>"
      ],
      "text/plain": [
       "                                    USER_ID       PLAY_DATE  MATCHES_STARTED  \\\n",
       "0  d4b3dccbf71946ae604d142792d1371b549a8a8e  22/08/22 00:00                5   \n",
       "1  950ecfee6ee85398628e33a256daccedab6c5e7e  10/02/22 00:00               15   \n",
       "2  950ecfee6ee85398628e33a256daccedab6c5e7e  24/07/22 00:00               15   \n",
       "3  9bccb7e16df4195aa74b25e8a7b88ca803d44e2a  12/09/22 00:00                4   \n",
       "4  01b9d4a84ad6297f78ad98fcfc82d245813332fa  25/09/21 00:00                5   \n",
       "\n",
       "   MATCHES_COMPLETED  MATCHES_WON  \n",
       "0                  5            0  \n",
       "1                 15            0  \n",
       "2                 15            2  \n",
       "3                  3            0  \n",
       "4                  5            0  "
      ]
     },
     "execution_count": 83,
     "metadata": {},
     "output_type": "execute_result"
    }
   ],
   "source": [
    "df_activity.head()"
   ]
  },
  {
   "cell_type": "code",
   "execution_count": 84,
   "id": "016112d6",
   "metadata": {},
   "outputs": [
    {
     "data": {
      "text/html": [
       "<div>\n",
       "<style scoped>\n",
       "    .dataframe tbody tr th:only-of-type {\n",
       "        vertical-align: middle;\n",
       "    }\n",
       "\n",
       "    .dataframe tbody tr th {\n",
       "        vertical-align: top;\n",
       "    }\n",
       "\n",
       "    .dataframe thead th {\n",
       "        text-align: right;\n",
       "    }\n",
       "</style>\n",
       "<table border=\"1\" class=\"dataframe\">\n",
       "  <thead>\n",
       "    <tr style=\"text-align: right;\">\n",
       "      <th></th>\n",
       "      <th>MATCHES_STARTED</th>\n",
       "      <th>MATCHES_COMPLETED</th>\n",
       "      <th>MATCHES_WON</th>\n",
       "    </tr>\n",
       "  </thead>\n",
       "  <tbody>\n",
       "    <tr>\n",
       "      <th>count</th>\n",
       "      <td>46299.000000</td>\n",
       "      <td>46299.000000</td>\n",
       "      <td>46299.000000</td>\n",
       "    </tr>\n",
       "    <tr>\n",
       "      <th>mean</th>\n",
       "      <td>5.607853</td>\n",
       "      <td>5.159463</td>\n",
       "      <td>0.270114</td>\n",
       "    </tr>\n",
       "    <tr>\n",
       "      <th>std</th>\n",
       "      <td>6.936740</td>\n",
       "      <td>6.408249</td>\n",
       "      <td>1.074767</td>\n",
       "    </tr>\n",
       "    <tr>\n",
       "      <th>min</th>\n",
       "      <td>0.000000</td>\n",
       "      <td>0.000000</td>\n",
       "      <td>0.000000</td>\n",
       "    </tr>\n",
       "    <tr>\n",
       "      <th>25%</th>\n",
       "      <td>1.000000</td>\n",
       "      <td>1.000000</td>\n",
       "      <td>0.000000</td>\n",
       "    </tr>\n",
       "    <tr>\n",
       "      <th>50%</th>\n",
       "      <td>3.000000</td>\n",
       "      <td>3.000000</td>\n",
       "      <td>0.000000</td>\n",
       "    </tr>\n",
       "    <tr>\n",
       "      <th>75%</th>\n",
       "      <td>7.000000</td>\n",
       "      <td>7.000000</td>\n",
       "      <td>0.000000</td>\n",
       "    </tr>\n",
       "    <tr>\n",
       "      <th>max</th>\n",
       "      <td>131.000000</td>\n",
       "      <td>80.000000</td>\n",
       "      <td>55.000000</td>\n",
       "    </tr>\n",
       "  </tbody>\n",
       "</table>\n",
       "</div>"
      ],
      "text/plain": [
       "       MATCHES_STARTED  MATCHES_COMPLETED   MATCHES_WON\n",
       "count     46299.000000       46299.000000  46299.000000\n",
       "mean          5.607853           5.159463      0.270114\n",
       "std           6.936740           6.408249      1.074767\n",
       "min           0.000000           0.000000      0.000000\n",
       "25%           1.000000           1.000000      0.000000\n",
       "50%           3.000000           3.000000      0.000000\n",
       "75%           7.000000           7.000000      0.000000\n",
       "max         131.000000          80.000000     55.000000"
      ]
     },
     "execution_count": 84,
     "metadata": {},
     "output_type": "execute_result"
    }
   ],
   "source": [
    "df_activity.describe()"
   ]
  },
  {
   "cell_type": "markdown",
   "id": "e1fcdd12",
   "metadata": {},
   "source": [
    "    df_ac"
   ]
  }
 ],
 "metadata": {
  "kernelspec": {
   "display_name": "Python 3 (ipykernel)",
   "language": "python",
   "name": "python3"
  },
  "language_info": {
   "codemirror_mode": {
    "name": "ipython",
    "version": 3
   },
   "file_extension": ".py",
   "mimetype": "text/x-python",
   "name": "python",
   "nbconvert_exporter": "python",
   "pygments_lexer": "ipython3",
   "version": "3.9.13"
  }
 },
 "nbformat": 4,
 "nbformat_minor": 5
}

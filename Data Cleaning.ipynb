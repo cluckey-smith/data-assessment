{
 "cells": [
  {
   "cell_type": "markdown",
   "id": "3dccaf78",
   "metadata": {},
   "source": [
    "This notebook is intended to perform some basic data cleaning before uploading to BigQuery"
   ]
  },
  {
   "cell_type": "code",
   "execution_count": 1,
   "id": "82f271a0",
   "metadata": {},
   "outputs": [],
   "source": [
    "import pandas as pd\n",
    "import os\n",
    "from google.cloud import bigquery\n",
    "import plotly.express as px"
   ]
  },
  {
   "cell_type": "code",
   "execution_count": 2,
   "id": "72c4aefe",
   "metadata": {},
   "outputs": [],
   "source": [
    "os.environ['GOOGLE_APPLICATION_CREDENTIALS'] = './bq-service-account.json'"
   ]
  },
  {
   "cell_type": "code",
   "execution_count": 3,
   "id": "eeaf7f24",
   "metadata": {},
   "outputs": [],
   "source": [
    "client = bigquery.Client(project='eg-data-assessment')"
   ]
  },
  {
   "cell_type": "markdown",
   "id": "94863162",
   "metadata": {},
   "source": [
    "# Exercise 1"
   ]
  },
  {
   "cell_type": "code",
   "execution_count": 4,
   "id": "134a827c",
   "metadata": {},
   "outputs": [],
   "source": [
    "df = pd.read_csv('./raw_files/Exercise_1_-_Webpage_Performance.csv', thousands=',')"
   ]
  },
  {
   "cell_type": "code",
   "execution_count": 5,
   "id": "56df85ad",
   "metadata": {},
   "outputs": [
    {
     "data": {
      "text/html": [
       "<div>\n",
       "<style scoped>\n",
       "    .dataframe tbody tr th:only-of-type {\n",
       "        vertical-align: middle;\n",
       "    }\n",
       "\n",
       "    .dataframe tbody tr th {\n",
       "        vertical-align: top;\n",
       "    }\n",
       "\n",
       "    .dataframe thead th {\n",
       "        text-align: right;\n",
       "    }\n",
       "</style>\n",
       "<table border=\"1\" class=\"dataframe\">\n",
       "  <thead>\n",
       "    <tr style=\"text-align: right;\">\n",
       "      <th></th>\n",
       "      <th>date</th>\n",
       "      <th>variant</th>\n",
       "      <th>metric</th>\n",
       "      <th>value</th>\n",
       "    </tr>\n",
       "  </thead>\n",
       "  <tbody>\n",
       "    <tr>\n",
       "      <th>0</th>\n",
       "      <td>1/1/2024</td>\n",
       "      <td>A</td>\n",
       "      <td>visits</td>\n",
       "      <td>2115</td>\n",
       "    </tr>\n",
       "    <tr>\n",
       "      <th>1</th>\n",
       "      <td>1/2/2024</td>\n",
       "      <td>A</td>\n",
       "      <td>visits</td>\n",
       "      <td>5406</td>\n",
       "    </tr>\n",
       "    <tr>\n",
       "      <th>2</th>\n",
       "      <td>1/3/2024</td>\n",
       "      <td>A</td>\n",
       "      <td>visits</td>\n",
       "      <td>2278</td>\n",
       "    </tr>\n",
       "    <tr>\n",
       "      <th>3</th>\n",
       "      <td>1/4/2024</td>\n",
       "      <td>A</td>\n",
       "      <td>visits</td>\n",
       "      <td>6725</td>\n",
       "    </tr>\n",
       "    <tr>\n",
       "      <th>4</th>\n",
       "      <td>1/5/2024</td>\n",
       "      <td>A</td>\n",
       "      <td>visits</td>\n",
       "      <td>8920</td>\n",
       "    </tr>\n",
       "  </tbody>\n",
       "</table>\n",
       "</div>"
      ],
      "text/plain": [
       "       date variant metric    value \n",
       "0  1/1/2024       A  visits     2115\n",
       "1  1/2/2024       A  visits     5406\n",
       "2  1/3/2024       A  visits     2278\n",
       "3  1/4/2024       A  visits     6725\n",
       "4  1/5/2024       A  visits     8920"
      ]
     },
     "execution_count": 5,
     "metadata": {},
     "output_type": "execute_result"
    }
   ],
   "source": [
    "df.head()"
   ]
  },
  {
   "cell_type": "code",
   "execution_count": 6,
   "id": "94f5e99e",
   "metadata": {
    "scrolled": true
   },
   "outputs": [
    {
     "data": {
      "text/html": [
       "<div>\n",
       "<style scoped>\n",
       "    .dataframe tbody tr th:only-of-type {\n",
       "        vertical-align: middle;\n",
       "    }\n",
       "\n",
       "    .dataframe tbody tr th {\n",
       "        vertical-align: top;\n",
       "    }\n",
       "\n",
       "    .dataframe thead th {\n",
       "        text-align: right;\n",
       "    }\n",
       "</style>\n",
       "<table border=\"1\" class=\"dataframe\">\n",
       "  <thead>\n",
       "    <tr style=\"text-align: right;\">\n",
       "      <th></th>\n",
       "      <th>value</th>\n",
       "    </tr>\n",
       "  </thead>\n",
       "  <tbody>\n",
       "    <tr>\n",
       "      <th>count</th>\n",
       "      <td>84.000000</td>\n",
       "    </tr>\n",
       "    <tr>\n",
       "      <th>mean</th>\n",
       "      <td>4660.928571</td>\n",
       "    </tr>\n",
       "    <tr>\n",
       "      <th>std</th>\n",
       "      <td>10821.613112</td>\n",
       "    </tr>\n",
       "    <tr>\n",
       "      <th>min</th>\n",
       "      <td>5.000000</td>\n",
       "    </tr>\n",
       "    <tr>\n",
       "      <th>25%</th>\n",
       "      <td>51.500000</td>\n",
       "    </tr>\n",
       "    <tr>\n",
       "      <th>50%</th>\n",
       "      <td>201.000000</td>\n",
       "    </tr>\n",
       "    <tr>\n",
       "      <th>75%</th>\n",
       "      <td>2890.500000</td>\n",
       "    </tr>\n",
       "    <tr>\n",
       "      <th>max</th>\n",
       "      <td>54944.000000</td>\n",
       "    </tr>\n",
       "  </tbody>\n",
       "</table>\n",
       "</div>"
      ],
      "text/plain": [
       "             value \n",
       "count     84.000000\n",
       "mean    4660.928571\n",
       "std    10821.613112\n",
       "min        5.000000\n",
       "25%       51.500000\n",
       "50%      201.000000\n",
       "75%     2890.500000\n",
       "max    54944.000000"
      ]
     },
     "execution_count": 6,
     "metadata": {},
     "output_type": "execute_result"
    }
   ],
   "source": [
    "df.describe()"
   ]
  },
  {
   "cell_type": "code",
   "execution_count": 7,
   "id": "815d3b9f",
   "metadata": {},
   "outputs": [
    {
     "name": "stdout",
     "output_type": "stream",
     "text": [
      "<class 'pandas.core.frame.DataFrame'>\n",
      "RangeIndex: 84 entries, 0 to 83\n",
      "Data columns (total 4 columns):\n",
      " #   Column   Non-Null Count  Dtype \n",
      "---  ------   --------------  ----- \n",
      " 0   date     84 non-null     object\n",
      " 1   variant  84 non-null     object\n",
      " 2   metric   84 non-null     object\n",
      " 3    value   84 non-null     int64 \n",
      "dtypes: int64(1), object(3)\n",
      "memory usage: 2.8+ KB\n"
     ]
    }
   ],
   "source": [
    "df.info()"
   ]
  },
  {
   "cell_type": "code",
   "execution_count": 8,
   "id": "9c2f7ef2",
   "metadata": {},
   "outputs": [],
   "source": [
    "# convert our dates\n",
    "df['date'] = pd.to_datetime(df['date'])"
   ]
  },
  {
   "cell_type": "code",
   "execution_count": 9,
   "id": "545b098f",
   "metadata": {},
   "outputs": [],
   "source": [
    "# strip any unncessary spaces from our column headers\n",
    "df.columns = df.columns.str.strip()"
   ]
  },
  {
   "cell_type": "code",
   "execution_count": 10,
   "id": "22b01d14",
   "metadata": {},
   "outputs": [],
   "source": [
    "# pivot table to where downloads and visits are each a column. Will make additional analysis simpler\n",
    "df_pivot = df.pivot_table(index=['date', 'variant'], columns='metric', values='value', aggfunc=sum).reset_index()"
   ]
  },
  {
   "cell_type": "code",
   "execution_count": null,
   "id": "160e4a5c",
   "metadata": {},
   "outputs": [],
   "source": [
    "df_pivot.to_gbq('raw_data.web_performance', if_exists='replace')"
   ]
  },
  {
   "cell_type": "markdown",
   "id": "11acbd44",
   "metadata": {},
   "source": [
    "# Exercise 3"
   ]
  },
  {
   "cell_type": "code",
   "execution_count": null,
   "id": "741cbe83",
   "metadata": {},
   "outputs": [],
   "source": [
    "df_installs = pd.read_csv('./raw_files/Exercise_3_-_Installs (1).csv', thousands=',')"
   ]
  },
  {
   "cell_type": "code",
   "execution_count": null,
   "id": "09912e8b",
   "metadata": {},
   "outputs": [],
   "source": [
    "df"
   ]
  },
  {
   "cell_type": "code",
   "execution_count": null,
   "id": "d8c2791e",
   "metadata": {},
   "outputs": [],
   "source": [
    "df_installs.columns = df_installs.columns.str.strip()\n",
    "df_installs.columns = df_installs.columns.str.lower()"
   ]
  },
  {
   "cell_type": "code",
   "execution_count": null,
   "id": "72ae4a4f",
   "metadata": {},
   "outputs": [],
   "source": [
    "df_installs['install_date'] = pd.to_datetime(df_installs['install_date'])"
   ]
  },
  {
   "cell_type": "code",
   "execution_count": null,
   "id": "fa2ecc20",
   "metadata": {},
   "outputs": [],
   "source": [
    "df_installs.describe()"
   ]
  },
  {
   "cell_type": "code",
   "execution_count": null,
   "id": "ea1e5c3c",
   "metadata": {},
   "outputs": [],
   "source": [
    "df_installs.info()"
   ]
  },
  {
   "cell_type": "code",
   "execution_count": null,
   "id": "1788d630",
   "metadata": {},
   "outputs": [],
   "source": [
    "df_installs.to_gbq('raw_data.user_installs', if_exists='replace')"
   ]
  },
  {
   "cell_type": "code",
   "execution_count": null,
   "id": "443519a4",
   "metadata": {},
   "outputs": [],
   "source": [
    "df_activity = pd.read_csv('./raw_files/Exercise_3_-_Activity (1).csv')"
   ]
  },
  {
   "cell_type": "code",
   "execution_count": null,
   "id": "31b6b78e",
   "metadata": {},
   "outputs": [],
   "source": [
    "df_activity.head()"
   ]
  },
  {
   "cell_type": "code",
   "execution_count": null,
   "id": "8069f612",
   "metadata": {},
   "outputs": [],
   "source": [
    "df_activity.info()"
   ]
  },
  {
   "cell_type": "code",
   "execution_count": null,
   "id": "233a812c",
   "metadata": {},
   "outputs": [],
   "source": [
    "df_activity.columns = df_activity.columns.str.strip()\n",
    "df_activity.columns = df_activity.columns.str.lower()"
   ]
  },
  {
   "cell_type": "code",
   "execution_count": null,
   "id": "44fd9323",
   "metadata": {},
   "outputs": [],
   "source": [
    "df_activity['play_date'] = pd.to_datetime(df_activity['play_date'])"
   ]
  },
  {
   "cell_type": "code",
   "execution_count": null,
   "id": "316814a2",
   "metadata": {},
   "outputs": [],
   "source": [
    "df_activity.head()"
   ]
  },
  {
   "cell_type": "code",
   "execution_count": null,
   "id": "013f83ff",
   "metadata": {},
   "outputs": [],
   "source": [
    "df_activity.describe()"
   ]
  },
  {
   "cell_type": "code",
   "execution_count": null,
   "id": "653e47cf",
   "metadata": {},
   "outputs": [],
   "source": [
    "df_activity.to_gbq('raw_data.user_activity', if_exists='replace')"
   ]
  },
  {
   "cell_type": "code",
   "execution_count": null,
   "id": "df989257",
   "metadata": {},
   "outputs": [],
   "source": [
    "df_activity"
   ]
  },
  {
   "cell_type": "code",
   "execution_count": null,
   "id": "53288ec1",
   "metadata": {},
   "outputs": [],
   "source": []
  }
 ],
 "metadata": {
  "kernelspec": {
   "display_name": "Python 3 (ipykernel)",
   "language": "python",
   "name": "python3"
  },
  "language_info": {
   "codemirror_mode": {
    "name": "ipython",
    "version": 3
   },
   "file_extension": ".py",
   "mimetype": "text/x-python",
   "name": "python",
   "nbconvert_exporter": "python",
   "pygments_lexer": "ipython3",
   "version": "3.9.13"
  }
 },
 "nbformat": 4,
 "nbformat_minor": 5
}
